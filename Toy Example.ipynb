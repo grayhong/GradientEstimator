{
 "cells": [
  {
   "cell_type": "code",
   "execution_count": null,
   "metadata": {},
   "outputs": [],
   "source": [
    "import numpy as np\n",
    "\n",
    "mu = 0.5\n",
    "sigma = 1\n",
    "\n",
    "t = 0.45\n",
    "\n",
    "def est_deriv_mu(samples):\n",
    "    approx = np.square(samples * sigma + mu - t) * samples / sigma\n",
    "    return np.mean(approx)\n",
    "\n",
    "def est_deriv_sigma(samples):\n",
    "    approx = np.square(samples * sigma + mu - t) * (np.square(samples) - 1) / sigma\n",
    "    return np.mean(approx)\n",
    "\n",
    "def get_noise(num):\n",
    "        return np.random.normal(size=(num, 1))\n",
    "\n",
    "\n",
    "for i in range(7):\n",
    "    num_samples = 10 ** i\n",
    "    samples = get_noise(num_samples)\n",
    "    est_mu, est_sigma = est_deriv_mu(samples), est_deriv_sigma(samples)\n",
    "    print(est_mu, est_sigma)"
   ]
  },
  {
   "cell_type": "code",
   "execution_count": null,
   "metadata": {},
   "outputs": [],
   "source": []
  }
 ],
 "metadata": {
  "kernelspec": {
   "display_name": "Python 3",
   "language": "python",
   "name": "python3"
  },
  "language_info": {
   "codemirror_mode": {
    "name": "ipython",
    "version": 3
   },
   "file_extension": ".py",
   "mimetype": "text/x-python",
   "name": "python",
   "nbconvert_exporter": "python",
   "pygments_lexer": "ipython3",
   "version": "3.5.2"
  }
 },
 "nbformat": 4,
 "nbformat_minor": 2
}
